{
  "nbformat": 4,
  "nbformat_minor": 0,
  "metadata": {
    "colab": {
      "provenance": [],
      "gpuType": "T4"
    },
    "kernelspec": {
      "name": "python3",
      "display_name": "Python 3"
    },
    "language_info": {
      "name": "python"
    },
    "accelerator": "GPU"
  },
  "cells": [
    {
      "cell_type": "markdown",
      "source": [
        "# Custom Data Cleaner Python Library Generation"
      ],
      "metadata": {
        "id": "QCN9X7Kv8US9"
      }
    },
    {
      "cell_type": "markdown",
      "source": [
        "Step 1: Set Up a New Google Colab Notebook"
      ],
      "metadata": {
        "id": "QNHJbGea9VBe"
      }
    },
    {
      "cell_type": "markdown",
      "source": [
        "Step 2: Write the Code for the Toolkit in Google Colab"
      ],
      "metadata": {
        "id": "QuZJr1WF9RJ-"
      }
    },
    {
      "cell_type": "markdown",
      "source": [
        "1. Add Library:"
      ],
      "metadata": {
        "id": "OZ6klvJn8fyg"
      }
    },
    {
      "cell_type": "code",
      "execution_count": 1,
      "metadata": {
        "id": "IPIdxRbf7wzV"
      },
      "outputs": [],
      "source": [
        "import pandas as pd\n",
        "import numpy as np\n",
        "from sklearn.preprocessing import StandardScaler, MinMaxScaler, RobustScaler, OneHotEncoder, LabelEncoder"
      ]
    },
    {
      "cell_type": "markdown",
      "source": [
        "2. Implement the DataCleaner Class: Create a code cell in Colab and add the code for your toolkit:"
      ],
      "metadata": {
        "id": "tZMIhvgn8t0e"
      }
    },
    {
      "cell_type": "code",
      "source": [
        "class DataCleaner:\n",
        "    def __init__(self, dataframe):\n",
        "        \"\"\"\n",
        "        Initialize with a pandas DataFrame.\n",
        "        \"\"\"\n",
        "        self.df = dataframe\n",
        "        self.log = []  # To store transformation logs\n",
        "\n",
        "    def handle_missing(self, method=\"mean\", columns=None):\n",
        "      \"\"\"\n",
        "      Handle missing values in the DataFrame.\n",
        "\n",
        "      Parameters:\n",
        "          method (str): The method to handle missing values (\"mean\", \"median\", \"mode\", \"drop\").\n",
        "          columns (list): List of columns to process. If None, all columns are processed.\n",
        "\n",
        "      Returns:\n",
        "          pd.DataFrame: DataFrame with missing values handled.\n",
        "      \"\"\"\n",
        "      if columns is None:\n",
        "          columns = self.df.columns\n",
        "\n",
        "      for col in columns:\n",
        "          if self.df[col].dtype in [np.float64, np.int64]:  # Numeric columns\n",
        "              if method == \"mean\":\n",
        "                  self.df[col].fillna(self.df[col].mean(), inplace=True)\n",
        "              elif method == \"median\":\n",
        "                  self.df[col].fillna(self.df[col].median(), inplace=True)\n",
        "              elif method == \"mode\":\n",
        "                  self.df[col].fillna(self.df[col].mode()[0], inplace=True)\n",
        "              elif method == \"drop\":\n",
        "                  self.df.dropna(subset=[col], inplace=True)\n",
        "              else:\n",
        "                  raise ValueError(\"Unsupported method for numeric columns.\")\n",
        "          elif self.df[col].dtype == \"object\":  # Categorical columns\n",
        "              if method == \"mode\":\n",
        "                  self.df[col].fillna(self.df[col].mode()[0], inplace=True)\n",
        "              elif method == \"drop\":\n",
        "                  self.df.dropna(subset=[col], inplace=True)\n",
        "              else:\n",
        "                  # Automatically default to \"mode\" for categorical columns if \"mean\" or \"median\" is passed.\n",
        "                  self.df[col].fillna(self.df[col].mode()[0], inplace=True)\n",
        "                  self.log.append(f\"Auto-applied 'mode' for column {col} (categorical).\")\n",
        "          else:\n",
        "              raise ValueError(f\"Column {col} has unsupported data type for {method} method.\")\n",
        "\n",
        "          self.log.append(f\"Handled missing values in {col} using {method} method.\")\n",
        "      return self.df\n",
        "\n",
        "\n",
        "    def detect_outliers(self, method=\"zscore\", threshold=3):\n",
        "        \"\"\"\n",
        "        Detect outliers in the DataFrame.\n",
        "        \"\"\"\n",
        "        outliers = {}\n",
        "        if method == \"zscore\":\n",
        "            for col in self.df.select_dtypes(include=[np.number]).columns:\n",
        "                z_scores = (self.df[col] - self.df[col].mean()) / self.df[col].std()\n",
        "                outliers[col] = self.df[col][np.abs(z_scores) > threshold].index.tolist()\n",
        "        elif method == \"iqr\":\n",
        "            for col in self.df.select_dtypes(include=[np.number]).columns:\n",
        "                Q1 = self.df[col].quantile(0.25)\n",
        "                Q3 = self.df[col].quantile(0.75)\n",
        "                IQR = Q3 - Q1\n",
        "                outliers[col] = self.df[col][(self.df[col] < (Q1 - 1.5 * IQR)) | (self.df[col] > (Q3 + 1.5 * IQR))].index.tolist()\n",
        "        else:\n",
        "            raise ValueError(\"Unsupported method for detecting outliers.\")\n",
        "        self.log.append(f\"Detected outliers using {method} method.\")\n",
        "        return outliers\n",
        "\n",
        "    def scale_features(self, method=\"standard\", columns=None):\n",
        "        \"\"\"\n",
        "        Scale features in the DataFrame.\n",
        "        \"\"\"\n",
        "        if columns is None:\n",
        "            columns = self.df.select_dtypes(include=[np.number]).columns\n",
        "\n",
        "        scaler = None\n",
        "        if method == \"standard\":\n",
        "            scaler = StandardScaler()\n",
        "        elif method == \"minmax\":\n",
        "            scaler = MinMaxScaler()\n",
        "        elif method == \"robust\":\n",
        "            scaler = RobustScaler()\n",
        "        else:\n",
        "            raise ValueError(\"Unsupported scaling method.\")\n",
        "\n",
        "        self.df[columns] = scaler.fit_transform(self.df[columns])\n",
        "        self.log.append(f\"Scaled features using {method} method.\")\n",
        "        return self.df\n",
        "\n",
        "    def encode_categorical(self, method=\"onehot\", columns=None):\n",
        "        \"\"\"\n",
        "        Encode categorical features in the DataFrame.\n",
        "        \"\"\"\n",
        "        if columns is None:\n",
        "            columns = self.df.select_dtypes(include=[\"object\", \"category\"]).columns\n",
        "\n",
        "        if method == \"onehot\":\n",
        "            self.df = pd.get_dummies(self.df, columns=columns, drop_first=True)\n",
        "        elif method == \"label\":\n",
        "            for col in columns:\n",
        "                le = LabelEncoder()\n",
        "                self.df[col] = le.fit_transform(self.df[col])\n",
        "        else:\n",
        "            raise ValueError(\"Unsupported encoding method.\")\n",
        "        self.log.append(f\"Encoded categorical features using {method} method.\")\n",
        "        return self.df\n",
        "\n",
        "    def get_logs(self):\n",
        "        \"\"\"\n",
        "        Retrieve transformation logs.\n",
        "        \"\"\"\n",
        "        return self.log"
      ],
      "metadata": {
        "id": "4s3DESii8kla"
      },
      "execution_count": 11,
      "outputs": []
    },
    {
      "cell_type": "markdown",
      "source": [
        "Step 3: Demonstrate Usage with Examples"
      ],
      "metadata": {
        "id": "jVJgLkSX8z4V"
      }
    },
    {
      "cell_type": "markdown",
      "source": [
        "1. Add an Example DataFrame: Create a small sample DataFrame in a new cell:"
      ],
      "metadata": {
        "id": "FBn7N-cU9LHb"
      }
    },
    {
      "cell_type": "code",
      "source": [
        "# Sample DataFrame\n",
        "data = {\n",
        "    \"Age\": [25, None, 35, 45, 30],\n",
        "    \"Income\": [50000, 60000, None, 80000, 75000],\n",
        "    \"Gender\": [\"Male\", \"Female\", None, \"Male\", \"Female\"]\n",
        "}\n",
        "df = pd.DataFrame(data)\n",
        "print(\"Original DataFrame:\")\n",
        "print(df)"
      ],
      "metadata": {
        "colab": {
          "base_uri": "https://localhost:8080/"
        },
        "id": "m__s2Qhs8xHt",
        "outputId": "cf385a60-9caa-4a65-c097-f2ff1b94680f"
      },
      "execution_count": 12,
      "outputs": [
        {
          "output_type": "stream",
          "name": "stdout",
          "text": [
            "Original DataFrame:\n",
            "    Age   Income  Gender\n",
            "0  25.0  50000.0    Male\n",
            "1   NaN  60000.0  Female\n",
            "2  35.0      NaN    None\n",
            "3  45.0  80000.0    Male\n",
            "4  30.0  75000.0  Female\n"
          ]
        }
      ]
    },
    {
      "cell_type": "markdown",
      "source": [
        "2. Demonstrate the DataCleaner Functions:"
      ],
      "metadata": {
        "id": "iB-1jpcm9fmU"
      }
    },
    {
      "cell_type": "markdown",
      "source": [
        "\n",
        "\n",
        "*   Handling Missing Values:\n",
        "\n"
      ],
      "metadata": {
        "id": "JokCGpV19jRI"
      }
    },
    {
      "cell_type": "code",
      "source": [
        "cleaner = DataCleaner(df)\n",
        "df_cleaned = cleaner.handle_missing(method=\"mean\")\n",
        "print(\"\\nDataFrame after handling missing values:\")\n",
        "print(df_cleaned)"
      ],
      "metadata": {
        "colab": {
          "base_uri": "https://localhost:8080/"
        },
        "id": "ijeywtvs9bqN",
        "outputId": "dfaf98fb-0204-4561-995f-42b365f8059a"
      },
      "execution_count": 13,
      "outputs": [
        {
          "output_type": "stream",
          "name": "stdout",
          "text": [
            "\n",
            "DataFrame after handling missing values:\n",
            "     Age   Income  Gender\n",
            "0  25.00  50000.0    Male\n",
            "1  33.75  60000.0  Female\n",
            "2  35.00  66250.0  Female\n",
            "3  45.00  80000.0    Male\n",
            "4  30.00  75000.0  Female\n"
          ]
        },
        {
          "output_type": "stream",
          "name": "stderr",
          "text": [
            "<ipython-input-11-a34149fa68cb>:26: FutureWarning: A value is trying to be set on a copy of a DataFrame or Series through chained assignment using an inplace method.\n",
            "The behavior will change in pandas 3.0. This inplace method will never work because the intermediate object on which we are setting values always behaves as a copy.\n",
            "\n",
            "For example, when doing 'df[col].method(value, inplace=True)', try using 'df.method({col: value}, inplace=True)' or df[col] = df[col].method(value) instead, to perform the operation inplace on the original object.\n",
            "\n",
            "\n",
            "  self.df[col].fillna(self.df[col].mean(), inplace=True)\n",
            "<ipython-input-11-a34149fa68cb>:42: FutureWarning: A value is trying to be set on a copy of a DataFrame or Series through chained assignment using an inplace method.\n",
            "The behavior will change in pandas 3.0. This inplace method will never work because the intermediate object on which we are setting values always behaves as a copy.\n",
            "\n",
            "For example, when doing 'df[col].method(value, inplace=True)', try using 'df.method({col: value}, inplace=True)' or df[col] = df[col].method(value) instead, to perform the operation inplace on the original object.\n",
            "\n",
            "\n",
            "  self.df[col].fillna(self.df[col].mode()[0], inplace=True)\n"
          ]
        }
      ]
    },
    {
      "cell_type": "markdown",
      "source": [
        "*   Outlier Detection:"
      ],
      "metadata": {
        "id": "UJCOKjty_w3d"
      }
    },
    {
      "cell_type": "code",
      "source": [
        "outliers = cleaner.detect_outliers(method=\"zscore\")\n",
        "print(\"\\nOutliers detected:\")\n",
        "print(outliers)"
      ],
      "metadata": {
        "colab": {
          "base_uri": "https://localhost:8080/"
        },
        "id": "8y_hawqz9qzF",
        "outputId": "0ee40d60-d0c6-4a3f-85f6-4607bc060f22"
      },
      "execution_count": 14,
      "outputs": [
        {
          "output_type": "stream",
          "name": "stdout",
          "text": [
            "\n",
            "Outliers detected:\n",
            "{'Age': [], 'Income': []}\n"
          ]
        }
      ]
    },
    {
      "cell_type": "markdown",
      "source": [
        "*   Feature Scaling:"
      ],
      "metadata": {
        "id": "YXVM5EWk_884"
      }
    },
    {
      "cell_type": "code",
      "source": [
        "df_scaled = cleaner.scale_features(method=\"standard\")\n",
        "print(\"\\nDataFrame after scaling features:\")\n",
        "print(df_scaled)"
      ],
      "metadata": {
        "colab": {
          "base_uri": "https://localhost:8080/"
        },
        "id": "wBswlFJL_4BA",
        "outputId": "30f512bb-dec2-4af6-86dc-ee2172127a12"
      },
      "execution_count": 15,
      "outputs": [
        {
          "output_type": "stream",
          "name": "stdout",
          "text": [
            "\n",
            "DataFrame after scaling features:\n",
            "        Age    Income  Gender\n",
            "0 -1.322876 -1.523624    Male\n",
            "1  0.000000 -0.586009  Female\n",
            "2  0.188982  0.000000  Female\n",
            "3  1.700840  1.289220    Male\n",
            "4 -0.566947  0.820413  Female\n"
          ]
        }
      ]
    },
    {
      "cell_type": "markdown",
      "source": [
        "*   Categorical Encoding:"
      ],
      "metadata": {
        "id": "3dG4b9eIAGFv"
      }
    },
    {
      "cell_type": "code",
      "source": [
        "df_encoded = cleaner.encode_categorical(method=\"onehot\")\n",
        "print(\"\\nDataFrame after encoding categorical features:\")\n",
        "print(df_encoded)"
      ],
      "metadata": {
        "colab": {
          "base_uri": "https://localhost:8080/"
        },
        "id": "ZCgdQfH2ABzy",
        "outputId": "5c802332-71ae-428f-ec2e-fedd10628406"
      },
      "execution_count": 16,
      "outputs": [
        {
          "output_type": "stream",
          "name": "stdout",
          "text": [
            "\n",
            "DataFrame after encoding categorical features:\n",
            "        Age    Income  Gender_Male\n",
            "0 -1.322876 -1.523624         True\n",
            "1  0.000000 -0.586009        False\n",
            "2  0.188982  0.000000        False\n",
            "3  1.700840  1.289220         True\n",
            "4 -0.566947  0.820413        False\n"
          ]
        }
      ]
    },
    {
      "cell_type": "markdown",
      "source": [
        "\n",
        "*   Retrieve Logs:"
      ],
      "metadata": {
        "id": "WRyWtHacANpX"
      }
    },
    {
      "cell_type": "code",
      "source": [
        "logs = cleaner.get_logs()\n",
        "print(\"\\nTransformation Logs:\")\n",
        "print(logs)"
      ],
      "metadata": {
        "colab": {
          "base_uri": "https://localhost:8080/"
        },
        "id": "Q_cEcPPYAKBO",
        "outputId": "8dd4fa90-4f27-49e2-9a4e-ef43c8a3662c"
      },
      "execution_count": 17,
      "outputs": [
        {
          "output_type": "stream",
          "name": "stdout",
          "text": [
            "\n",
            "Transformation Logs:\n",
            "['Handled missing values in Age using mean method.', 'Handled missing values in Income using mean method.', \"Auto-applied 'mode' for column Gender (categorical).\", 'Handled missing values in Gender using mean method.', 'Detected outliers using zscore method.', 'Scaled features using standard method.', 'Encoded categorical features using onehot method.']\n"
          ]
        }
      ]
    },
    {
      "cell_type": "code",
      "source": [],
      "metadata": {
        "id": "wNKBEPs3ATeA"
      },
      "execution_count": null,
      "outputs": []
    }
  ]
}